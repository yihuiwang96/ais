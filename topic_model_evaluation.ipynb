{
 "cells": [
  {
   "cell_type": "code",
   "execution_count": 35,
   "metadata": {},
   "outputs": [],
   "source": [
    "import pandas as pd\n",
    "import os\n",
    "import gensim\n",
    "import gensim.corpora as corpora\n",
    "from gensim.models import CoherenceModel"
   ]
  },
  {
   "cell_type": "code",
   "execution_count": 51,
   "metadata": {},
   "outputs": [],
   "source": [
    "def tm_eval_wrapper(dir_path, corpus_, id2word_):\n",
    "    score_df = pd.DataFrame()\n",
    "    corpus = corpora.MmCorpus(corpus_)\n",
    "    id2word = id2word = corpora.Dictionary.load(id2word_)\n",
    "    os.chdir(dir_path)\n",
    "    the_files = os.listdir(dir_path)\n",
    "    for file in the_files:\n",
    "        if not file.endswith(('npy', 'id2word', 'state','.DS_Store')):\n",
    "            model_name = file\n",
    "            lda_model = gensim.models.ldamodel.LdaModel.load(model_name)\n",
    "            # perp score\n",
    "            perplexity_score = lda_model.log_perplexity(corpus)\n",
    "            #Compute Coherence Score\n",
    "            coherence_model_lda = CoherenceModel(model=lda_model, texts=corpus, \n",
    "                                                 dictionary=id2word, coherence='c_v')\n",
    "            coherence_score = coherence_model_lda.get_coherence()\n",
    "    \n",
    "            score_df = score_df.append({'model_name': model_name, 'num_topics': lda_model.num_topics,\n",
    "                                        'perplexity_score': perplexity_score, 'coherence_score': coherence_score},\n",
    "                                       ignore_index= True)\n",
    "    return(score_df)\n",
    "    "
   ]
  },
  {
   "cell_type": "code",
   "execution_count": 52,
   "metadata": {
    "scrolled": true
   },
   "outputs": [
    {
     "name": "stderr",
     "output_type": "stream",
     "text": [
      "/Users/yihuiwang/Envs/ivy/lib/python3.7/site-packages/gensim/topic_coherence/direct_confirmation_measure.py:202: RuntimeWarning: invalid value encountered in true_divide\n",
      "  numerator = (co_occur_count / num_docs) + EPSILON\n",
      "/Users/yihuiwang/Envs/ivy/lib/python3.7/site-packages/gensim/topic_coherence/direct_confirmation_measure.py:203: RuntimeWarning: invalid value encountered in true_divide\n",
      "  denominator = (w_prime_count / num_docs) * (w_star_count / num_docs)\n",
      "/Users/yihuiwang/Envs/ivy/lib/python3.7/site-packages/gensim/topic_coherence/direct_confirmation_measure.py:198: RuntimeWarning: invalid value encountered in true_divide\n",
      "  co_doc_prob = co_occur_count / num_docs\n",
      "/Users/yihuiwang/Envs/ivy/lib/python3.7/site-packages/gensim/topic_coherence/direct_confirmation_measure.py:202: RuntimeWarning: invalid value encountered in true_divide\n",
      "  numerator = (co_occur_count / num_docs) + EPSILON\n",
      "/Users/yihuiwang/Envs/ivy/lib/python3.7/site-packages/gensim/topic_coherence/direct_confirmation_measure.py:203: RuntimeWarning: invalid value encountered in true_divide\n",
      "  denominator = (w_prime_count / num_docs) * (w_star_count / num_docs)\n",
      "/Users/yihuiwang/Envs/ivy/lib/python3.7/site-packages/gensim/topic_coherence/direct_confirmation_measure.py:198: RuntimeWarning: invalid value encountered in true_divide\n",
      "  co_doc_prob = co_occur_count / num_docs\n"
     ]
    },
    {
     "data": {
      "text/html": [
       "<div>\n",
       "<style scoped>\n",
       "    .dataframe tbody tr th:only-of-type {\n",
       "        vertical-align: middle;\n",
       "    }\n",
       "\n",
       "    .dataframe tbody tr th {\n",
       "        vertical-align: top;\n",
       "    }\n",
       "\n",
       "    .dataframe thead th {\n",
       "        text-align: right;\n",
       "    }\n",
       "</style>\n",
       "<table border=\"1\" class=\"dataframe\">\n",
       "  <thead>\n",
       "    <tr style=\"text-align: right;\">\n",
       "      <th></th>\n",
       "      <th>coherence_score</th>\n",
       "      <th>model_name</th>\n",
       "      <th>num_topics</th>\n",
       "      <th>perplexity_score</th>\n",
       "    </tr>\n",
       "  </thead>\n",
       "  <tbody>\n",
       "    <tr>\n",
       "      <th>0</th>\n",
       "      <td>NaN</td>\n",
       "      <td>test100_model_1</td>\n",
       "      <td>10.0</td>\n",
       "      <td>-7.769507</td>\n",
       "    </tr>\n",
       "    <tr>\n",
       "      <th>1</th>\n",
       "      <td>NaN</td>\n",
       "      <td>test100_model</td>\n",
       "      <td>10.0</td>\n",
       "      <td>-7.769507</td>\n",
       "    </tr>\n",
       "  </tbody>\n",
       "</table>\n",
       "</div>"
      ],
      "text/plain": [
       "   coherence_score       model_name  num_topics  perplexity_score\n",
       "0              NaN  test100_model_1        10.0         -7.769507\n",
       "1              NaN    test100_model        10.0         -7.769507"
      ]
     },
     "execution_count": 52,
     "metadata": {},
     "output_type": "execute_result"
    }
   ],
   "source": [
    "tm_eval_wrapper(dir_path='/Users/yihuiwang/Desktop/tmp-data/model',\n",
    "                corpus_='/Users/yihuiwang/Desktop/tmp-data/test_100_corpus_MmCorpus.dump', \n",
    "                id2word_= '/Users/yihuiwang/Desktop/tmp-data/test_100_vocab.dict')"
   ]
  },
  {
   "cell_type": "code",
   "execution_count": null,
   "metadata": {},
   "outputs": [],
   "source": []
  }
 ],
 "metadata": {
  "kernelspec": {
   "display_name": "Python 3",
   "language": "python",
   "name": "python3"
  },
  "language_info": {
   "codemirror_mode": {
    "name": "ipython",
    "version": 3
   },
   "file_extension": ".py",
   "mimetype": "text/x-python",
   "name": "python",
   "nbconvert_exporter": "python",
   "pygments_lexer": "ipython3",
   "version": "3.7.4"
  },
  "toc": {
   "base_numbering": 1,
   "nav_menu": {},
   "number_sections": true,
   "sideBar": true,
   "skip_h1_title": false,
   "title_cell": "Table of Contents",
   "title_sidebar": "Contents",
   "toc_cell": false,
   "toc_position": {},
   "toc_section_display": true,
   "toc_window_display": false
  },
  "varInspector": {
   "cols": {
    "lenName": 16,
    "lenType": 16,
    "lenVar": 40
   },
   "kernels_config": {
    "python": {
     "delete_cmd_postfix": "",
     "delete_cmd_prefix": "del ",
     "library": "var_list.py",
     "varRefreshCmd": "print(var_dic_list())"
    },
    "r": {
     "delete_cmd_postfix": ") ",
     "delete_cmd_prefix": "rm(",
     "library": "var_list.r",
     "varRefreshCmd": "cat(var_dic_list()) "
    }
   },
   "types_to_exclude": [
    "module",
    "function",
    "builtin_function_or_method",
    "instance",
    "_Feature"
   ],
   "window_display": false
  }
 },
 "nbformat": 4,
 "nbformat_minor": 2
}
