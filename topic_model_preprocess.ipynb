{
 "cells": [
  {
   "cell_type": "markdown",
   "metadata": {},
   "source": [
    "this is the notebook where we clean raw textual input for gensim topic models"
   ]
  },
  {
   "cell_type": "markdown",
   "metadata": {},
   "source": [
    "---"
   ]
  },
  {
   "cell_type": "code",
   "execution_count": 1,
   "metadata": {
    "ExecuteTime": {
     "end_time": "2019-10-05T02:16:39.721729Z",
     "start_time": "2019-10-05T02:16:37.867818Z"
    }
   },
   "outputs": [],
   "source": [
    "import pandas as pd"
   ]
  },
  {
   "cell_type": "code",
   "execution_count": 20,
   "metadata": {
    "ExecuteTime": {
     "end_time": "2019-10-05T02:28:36.743243Z",
     "start_time": "2019-10-05T02:28:36.739039Z"
    }
   },
   "outputs": [],
   "source": [
    "from tm_preprocessor import Preprocessor"
   ]
  },
  {
   "cell_type": "code",
   "execution_count": 4,
   "metadata": {
    "ExecuteTime": {
     "end_time": "2019-10-05T02:24:19.144158Z",
     "start_time": "2019-10-05T02:24:19.134521Z"
    }
   },
   "outputs": [],
   "source": [
    "import nltk"
   ]
  },
  {
   "cell_type": "markdown",
   "metadata": {},
   "source": [
    "---"
   ]
  },
  {
   "cell_type": "markdown",
   "metadata": {},
   "source": [
    "# test"
   ]
  },
  {
   "cell_type": "code",
   "execution_count": 15,
   "metadata": {
    "ExecuteTime": {
     "end_time": "2019-10-05T02:28:09.411622Z",
     "start_time": "2019-10-05T02:28:09.400911Z"
    }
   },
   "outputs": [],
   "source": [
    "fname = '../tmp-data/pub_abstract.csv'"
   ]
  },
  {
   "cell_type": "code",
   "execution_count": 17,
   "metadata": {
    "ExecuteTime": {
     "end_time": "2019-10-05T02:28:13.795469Z",
     "start_time": "2019-10-05T02:28:13.730640Z"
    }
   },
   "outputs": [
    {
     "data": {
      "text/html": [
       "<div>\n",
       "<style scoped>\n",
       "    .dataframe tbody tr th:only-of-type {\n",
       "        vertical-align: middle;\n",
       "    }\n",
       "\n",
       "    .dataframe tbody tr th {\n",
       "        vertical-align: top;\n",
       "    }\n",
       "\n",
       "    .dataframe thead th {\n",
       "        text-align: right;\n",
       "    }\n",
       "</style>\n",
       "<table border=\"1\" class=\"dataframe\">\n",
       "  <thead>\n",
       "    <tr style=\"text-align: right;\">\n",
       "      <th></th>\n",
       "      <th>abstract</th>\n",
       "      <th>title</th>\n",
       "      <th>scopus_id</th>\n",
       "    </tr>\n",
       "  </thead>\n",
       "  <tbody>\n",
       "    <tr>\n",
       "      <th>0</th>\n",
       "      <td>Within the field of information systems (IS), ...</td>\n",
       "      <td>Rethinking the concept of user involvement</td>\n",
       "      <td>24044550516</td>\n",
       "    </tr>\n",
       "    <tr>\n",
       "      <th>1</th>\n",
       "      <td>The Business Process Execution Language for We...</td>\n",
       "      <td>From business process models to web services o...</td>\n",
       "      <td>58049112405</td>\n",
       "    </tr>\n",
       "  </tbody>\n",
       "</table>\n",
       "</div>"
      ],
      "text/plain": [
       "                                            abstract  \\\n",
       "0  Within the field of information systems (IS), ...   \n",
       "1  The Business Process Execution Language for We...   \n",
       "\n",
       "                                               title    scopus_id  \n",
       "0         Rethinking the concept of user involvement  24044550516  \n",
       "1  From business process models to web services o...  58049112405  "
      ]
     },
     "execution_count": 17,
     "metadata": {},
     "output_type": "execute_result"
    }
   ],
   "source": [
    "df = pd.read_csv(fname, nrows=100)\n",
    "df.head(2)"
   ]
  },
  {
   "cell_type": "code",
   "execution_count": 18,
   "metadata": {
    "ExecuteTime": {
     "end_time": "2019-10-05T02:28:21.750600Z",
     "start_time": "2019-10-05T02:28:21.730890Z"
    }
   },
   "outputs": [
    {
     "data": {
      "text/plain": [
       "['Within the field of information systems (IS), user involvement generally refers to participation in the systems development process by potential users or their representatives and is measured as a set of behaviors or activities that such individuals perform. This article argues for a separation of the constructs of user participation (a set of behaviors or activities performed by users in the system development process) and user involvement (a subjective psychological state reflecting the importance and personal relevance of a system to the user). Such a distinction is not only more consistent with conceptualizations of involvement found in other disciplines, but it also leads to a number of new and interesting hypotheses. These hypotheses promise a richer theoretical network that describes the role and importance of participation and involvement in the implementation process.',\n",
       " 'The Business Process Execution Language for Web Services (BPEL) has emerged as the de facto standard for implementing business processes. At the same time, Model Driven Architecture (MDA) is being applied to the field of business process engineering by separating business logic from the underlying platform technology. However, due to the challenge of mapping graph-oriented modeling languages to block-structured ones and the informal description of UML 2.0 Activity Diagram (AD) and BPEL, transforming AD models to executable BPEL code is not trivial. This paper proposes an approach to transform AD to BPEL and paves the way for further general transformation between graph-oriented and block-structured process modeling languages. © 2008 Springer Berlin Heidelberg.',\n",
       " \"Logistics management is defined as that part of the supply chain process that plans, implements, and controls the efficient, effective flow and storage of goods, services, and related information from the point of origin to the point of consumption in order to meet customers' requirements. Traditional logistical issues may be amplified by an e-commerce venture. Adopting e-commerce may greatly expand the marketplace. The organization needs to be concerned with its ability to deliver its product to potential customers. Realizing the importance of E-commerce in logistic management, an attempt has been made in this paper to review the existing literature with the objective to gain insights into the impact of E-commerce in logistic management. The advantages of the E-commerce in logistic management are offered. Finally, summary of findings and calculations are presented.\",\n",
       " \"© 2014 IEEE.Multimedia content in websites poses a variety of problems to mobile WEB users, such as content incompatible with mobile devices or failing to meet the accessibility needs of users with disabilities. This study proposes and evaluates a user-centered, device-aware approach to multimedia content adaptation for mobile WEB to address those problems. It uniquely takes into consideration not only users' preferences and accessibility needs, but also capabilities of multimedia support of individual mobile devices. Evaluation shows that the proposed approach is accurate and efficient. This study provides insights for research on context-aware mobile computing, adaptive interfaces, and mobile HCI.\",\n",
       " 'The status quo of prohibiting broadband service providers from charging websites for preferential access to their customers-the bedrock principle of net neutrality (NN)-is under fierce debate. We develop a game-theoretic model to address two critical issues of NN: (1) Who are gainers and losers of abandoning NN? (2) Will broadband service providers have greater incentive to expand their capacity without NN? We find that if the principle of NN is abolished, the broadband service provider stands to gain from the arrangement, as a result of extracting the preferential access fees from content providers. Content providers are thus left worse off, mirroring the stances of the two sides in the debate. Depending on parameter values in our framework, consumer surplus either does not change or is higher in the short run. When compared to the baseline case under NN, social welfare in the short run increases if one content provider pays for preferential treatment but remains unchanged if both content providers pay. Finally, we find that the incentive to expand infrastructure capacity for the broadband service provider and its optimal capacity choice under NN are higher than those under the no-net-neutrality (NNN) regime, except in some specific cases. Under NN, the broadband service provider always invests in broadband infrastructure at the socially optimal level but either under- or overinvests in infrastructure capacity in the absence of NN. © 2011 INFORMS.',\n",
       " 'Recent advances in electronics and telecommunication have paved the way for service robots to enter the clinical world. While service robotics has long been a core research theme in computer science and other engineering-related fields, it has attracted little interest of Information Systems (IS) researchers so far. We argue that service robotics represents an interesting area of investigation, especially for healthcare, since current research lacks a thorough examination of socio-technical problems and contextual influencing factors. This study identifies current research thrusts and delineates possible areas for theoretical, empirical, or design-oriented research for IS scholars. By means of a systematic literature review, we explore the current use, users, and utility of service robots in healthcare. Based on these findings, we suggest research topics that have the potential to be of practical significance. Our aim is to make substantive steps towards establishing service robotics as new research theme in information systems research.',\n",
       " \"The complexity of evaluating expert system (ES) products calls for a formal decision analysis method. This paper presents an attempt to introduce a formal decision analysis in this area. The evaluation process consists of four steps: identification of the ES tool's functional structure, quantification of the relative weights of the functional elements of the ES tools, comparison of the products for the functional elements, and aggregation of the product scores. © 1990.\",\n",
       " 'A prototype Project Management Quality Cost System (PROMQACS) was developed to determine quality costs in construction projects. The structure and information requirements that are needed to provide a classification system of quality costs were identified and discussed. The developed system was tested and implemented in two case study construction projects to determine the information and management issues needed to develop PROMQACS into a software program. In addition, the system was used to determine the cost and causes of rework that occurred in the projects. It is suggested that project participants can use the information in PROMQACS to identify shortcomings in their project-related activities and therefore take the appropriate action to improve their management practices in future projects. The benefits and limitations of PROMQACS are identified. © 2002 Published by Elsevier Science B.V.',\n",
       " 'Environmental sustainability is one of the most important topics of our time. Energy consumption is a significant aspect of environmental sustainability, as it is a major source of pollution. In order to determine how information systems can assist organizations in reducing energy consumption, we first identify energy-related activities of organizations by examining the content of 4,999 sustainability reports that communicate corporate activities directed toward sustainability. We use latent semantic analysis (LSA) to extract the most prominent topics discussed in these reports and the concept of affordances in order to portray the potential role of information systems in supporting these activities. We identify five such affordances: (1) balancing supply and demand with consideration of the energy price; (2) capturing, reporting, and sharing energy-related data; (3) reducing energy consumption and emissions; (4) sustainable waste management; and (5) coordination of flexible charging of electric vehicles. These affordances support energy management through information systems in practice and set a foundation for further research in the important field of energy informatics.',\n",
       " 'Information security has become increasingly important to organizations. Despite the prevalence of technical security measures, individual employees remain the key link - and frequently the weakest link - in corporate defenses. When individuals choose to disregard security policies and procedures, the organization is at risk. How, then, can organizations motivate their employees to follow security guidelines? Using an organizational control lens, we build a model to explain individual information security precaution-taking behavior. Specific hypotheses are developed and tested using a field survey. We examine elements of control and introduce the concept of mandatoriness, which we define as the degree to which individuals perceive that compliance with existing security policies and procedures is compulsory or expected by organizational management. We find that the acts of specifying policies and evaluating behaviors are effective in convincing individuals that security policies are mandatory. The perception of mandatoriness is effective in motivating individuals to take security precautions, thus if individuals believe that management watches, they will comply. © 2009 Operational Research Society Ltd. All rights reserved.']"
      ]
     },
     "execution_count": 18,
     "metadata": {},
     "output_type": "execute_result"
    }
   ],
   "source": [
    "data = df['abstract'].astype(str).values.tolist()\n",
    "data[:10]"
   ]
  },
  {
   "cell_type": "code",
   "execution_count": 22,
   "metadata": {
    "ExecuteTime": {
     "end_time": "2019-10-05T02:28:50.248544Z",
     "start_time": "2019-10-05T02:28:48.931095Z"
    }
   },
   "outputs": [],
   "source": [
    "preprocessor = Preprocessor(data)\n",
    "## todo: customize stopword list\n",
    "preprocessor.remove_digits_punctuactions()\n",
    "preprocessor.remove_stopwords()\n",
    "## todo: go with different lemmitzer/stemmer\n",
    "lemmatizer = nltk.WordNetLemmatizer()\n",
    "preprocessor.normalize(lemmatizer, 0, 1, 2)"
   ]
  },
  {
   "cell_type": "code",
   "execution_count": 23,
   "metadata": {
    "ExecuteTime": {
     "end_time": "2019-10-05T02:30:54.930199Z",
     "start_time": "2019-10-05T02:30:54.834364Z"
    }
   },
   "outputs": [],
   "source": [
    "preprocessor.serialize(format_='MmCorpus', path='../tmp-data')"
   ]
  },
  {
   "cell_type": "code",
   "execution_count": 24,
   "metadata": {
    "ExecuteTime": {
     "end_time": "2019-10-05T02:31:01.082679Z",
     "start_time": "2019-10-05T02:31:00.925006Z"
    }
   },
   "outputs": [
    {
     "name": "stdout",
     "output_type": "stream",
     "text": [
      "\u001b[31maff_info.csv\u001b[m\u001b[m*               corpus_MmCorpus.dump.index\r\n",
      "\u001b[31mais.dump\u001b[m\u001b[m*                   \u001b[31mpub_abstract.csv\u001b[m\u001b[m*\r\n",
      "\u001b[31mais.sql\u001b[m\u001b[m*                    vocab.dict\r\n",
      "corpus_MmCorpus.dump\r\n"
     ]
    }
   ],
   "source": [
    "ls ../tmp-data"
   ]
  },
  {
   "cell_type": "code",
   "execution_count": null,
   "metadata": {},
   "outputs": [],
   "source": []
  },
  {
   "cell_type": "markdown",
   "metadata": {},
   "source": [
    "---"
   ]
  },
  {
   "cell_type": "markdown",
   "metadata": {},
   "source": [
    "# wrapper func"
   ]
  },
  {
   "cell_type": "code",
   "execution_count": 2,
   "metadata": {},
   "outputs": [],
   "source": [
    "def wrapper_preprocessor(fname, head_cnt=200,\n",
    "                         min_freq=0, max_freq=1, min_len=2):\n",
    "    df = pd.read_csv(fname, nrows=head_cnt)\n",
    "    ## todo: should be abstract plus title\n",
    "    data = df['abstract'].astype(str).values.tolist()\n",
    "    preprocessor = Preprocessor(data)\n",
    "    ## todo: customize stopword list\n",
    "    preprocessor.remove_digits_punctuactions()\n",
    "    preprocessor.remove_stopwords()\n",
    "    ## todo: go with different lemmitzer/stemmer\n",
    "    lemmatizer = nltk.WordNetLemmatizer()\n",
    "    preprocessor.normalize(lemmatizer, min_freq, max_freq, min_len)\n",
    "    data_preprocessed = preprocessor.corpus\n",
    "    preprocessor.serialize(format_='MmCorpus', path='../tmp-data')\n",
    "    ## todo: rename; call bash is one optin"
   ]
  }
 ],
 "metadata": {
  "kernelspec": {
   "display_name": "Python 3",
   "language": "python",
   "name": "python3"
  },
  "language_info": {
   "codemirror_mode": {
    "name": "ipython",
    "version": 3
   },
   "file_extension": ".py",
   "mimetype": "text/x-python",
   "name": "python",
   "nbconvert_exporter": "python",
   "pygments_lexer": "ipython3",
   "version": "3.7.4"
  },
  "toc": {
   "base_numbering": 1,
   "nav_menu": {},
   "number_sections": true,
   "sideBar": true,
   "skip_h1_title": false,
   "title_cell": "Table of Contents",
   "title_sidebar": "Contents",
   "toc_cell": false,
   "toc_position": {},
   "toc_section_display": true,
   "toc_window_display": false
  },
  "varInspector": {
   "cols": {
    "lenName": 16,
    "lenType": 16,
    "lenVar": 40
   },
   "kernels_config": {
    "python": {
     "delete_cmd_postfix": "",
     "delete_cmd_prefix": "del ",
     "library": "var_list.py",
     "varRefreshCmd": "print(var_dic_list())"
    },
    "r": {
     "delete_cmd_postfix": ") ",
     "delete_cmd_prefix": "rm(",
     "library": "var_list.r",
     "varRefreshCmd": "cat(var_dic_list()) "
    }
   },
   "types_to_exclude": [
    "module",
    "function",
    "builtin_function_or_method",
    "instance",
    "_Feature"
   ],
   "window_display": false
  }
 },
 "nbformat": 4,
 "nbformat_minor": 2
}
