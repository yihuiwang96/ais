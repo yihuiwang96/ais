{
 "cells": [
  {
   "cell_type": "code",
   "execution_count": 1,
   "metadata": {
    "ExecuteTime": {
     "end_time": "2019-10-05T02:34:16.024274Z",
     "start_time": "2019-10-05T02:34:14.957203Z"
    }
   },
   "outputs": [],
   "source": [
    "import numpy as np\n",
    "import pandas as pd"
   ]
  },
  {
   "cell_type": "code",
   "execution_count": 2,
   "metadata": {
    "ExecuteTime": {
     "end_time": "2019-10-05T02:34:18.840533Z",
     "start_time": "2019-10-05T02:34:16.192080Z"
    }
   },
   "outputs": [],
   "source": [
    "import gensim\n",
    "import gensim.corpora as corpora\n",
    "from gensim.models import CoherenceModel"
   ]
  },
  {
   "cell_type": "code",
   "execution_count": 3,
   "metadata": {
    "ExecuteTime": {
     "end_time": "2019-10-05T02:34:18.964798Z",
     "start_time": "2019-10-05T02:34:18.938986Z"
    }
   },
   "outputs": [],
   "source": [
    "import pickle"
   ]
  },
  {
   "cell_type": "markdown",
   "metadata": {},
   "source": [
    "---"
   ]
  },
  {
   "cell_type": "markdown",
   "metadata": {},
   "source": [
    "# test"
   ]
  },
  {
   "cell_type": "code",
   "execution_count": 5,
   "metadata": {
    "ExecuteTime": {
     "end_time": "2019-10-05T02:34:41.399602Z",
     "start_time": "2019-10-05T02:34:41.392650Z"
    }
   },
   "outputs": [
    {
     "name": "stdout",
     "output_type": "stream",
     "text": [
      "MmCorpus(100 documents, 2312 features, 6042 non-zero entries)\n"
     ]
    }
   ],
   "source": [
    "corpus = corpora.MmCorpus('../tmp-data/corpus_MmCorpus.dump')\n",
    "print(corpus)"
   ]
  },
  {
   "cell_type": "code",
   "execution_count": 7,
   "metadata": {
    "ExecuteTime": {
     "end_time": "2019-10-05T02:35:07.335663Z",
     "start_time": "2019-10-05T02:35:07.315612Z"
    }
   },
   "outputs": [
    {
     "name": "stdout",
     "output_type": "stream",
     "text": [
      "Dictionary(2312 unique tokens: ['activity', 'argue', 'article', 'behavior', 'conceptualization']...)\n"
     ]
    }
   ],
   "source": [
    "id2word = corpora.Dictionary.load('../tmp-data/vocab.dict')\n",
    "print(id2word)"
   ]
  },
  {
   "cell_type": "code",
   "execution_count": 8,
   "metadata": {
    "ExecuteTime": {
     "end_time": "2019-10-05T02:36:10.157764Z",
     "start_time": "2019-10-05T02:36:10.137857Z"
    }
   },
   "outputs": [
    {
     "data": {
      "text/plain": [
       "{'corpus': <gensim.corpora.mmcorpus.MmCorpus at 0x119f8e750>,\n",
       " 'id2word': <gensim.corpora.dictionary.Dictionary at 0x119fa7e90>,\n",
       " 'num_topics': 10,\n",
       " 'random_state': 100,\n",
       " 'per_word_topics': True}"
      ]
     },
     "execution_count": 8,
     "metadata": {},
     "output_type": "execute_result"
    }
   ],
   "source": [
    "param_dict = {'corpus': corpus, 'id2word': id2word,\n",
    "              'num_topics': 10, 'random_state': 100,\n",
    "              'per_word_topics': True,\n",
    "             }\n",
    "param_dict"
   ]
  },
  {
   "cell_type": "code",
   "execution_count": 9,
   "metadata": {
    "ExecuteTime": {
     "end_time": "2019-10-05T02:36:26.841241Z",
     "start_time": "2019-10-05T02:36:26.462122Z"
    }
   },
   "outputs": [
    {
     "name": "stdout",
     "output_type": "stream",
     "text": [
      "LdaModel(num_terms=2312, num_topics=10, decay=0.5, chunksize=2000)\n"
     ]
    }
   ],
   "source": [
    "lda_model = gensim.models.ldamodel.LdaModel(**param_dict)\n",
    "print(lda_model)"
   ]
  },
  {
   "cell_type": "code",
   "execution_count": 11,
   "metadata": {
    "ExecuteTime": {
     "end_time": "2019-10-05T02:36:38.600533Z",
     "start_time": "2019-10-05T02:36:38.591054Z"
    }
   },
   "outputs": [
    {
     "data": {
      "text/plain": [
       "[(0,\n",
       "  '0.011*\"review\" + 0.011*\"system\" + 0.009*\"service\" + 0.009*\"information\" + 0.008*\"study\" + 0.008*\"process\" + 0.008*\"research\" + 0.008*\"literature\" + 0.008*\"xa\" + 0.007*\"mobile\"'),\n",
       " (1,\n",
       "  '0.011*\"analysis\" + 0.010*\"system\" + 0.008*\"model\" + 0.008*\"process\" + 0.008*\"research\" + 0.007*\"information\" + 0.007*\"theory\" + 0.007*\"performance\" + 0.007*\"paper\" + 0.006*\"key\"'),\n",
       " (2,\n",
       "  '0.012*\"model\" + 0.011*\"service\" + 0.010*\"information\" + 0.009*\"system\" + 0.008*\"xa\" + 0.007*\"paper\" + 0.007*\"business\" + 0.007*\"software\" + 0.006*\"organizational\" + 0.006*\"resource\"'),\n",
       " (3,\n",
       "  '0.015*\"knowledge\" + 0.013*\"service\" + 0.011*\"research\" + 0.011*\"management\" + 0.007*\"system\" + 0.007*\"paper\" + 0.006*\"information\" + 0.005*\"citizen\" + 0.005*\"government\" + 0.005*\"key\"'),\n",
       " (4,\n",
       "  '0.015*\"user\" + 0.013*\"system\" + 0.009*\"involvement\" + 0.008*\"model\" + 0.008*\"study\" + 0.008*\"data\" + 0.007*\"process\" + 0.007*\"result\" + 0.006*\"information\" + 0.006*\"xa\"'),\n",
       " (5,\n",
       "  '0.012*\"process\" + 0.008*\"research\" + 0.007*\"data\" + 0.007*\"xa\" + 0.007*\"service\" + 0.007*\"decision\" + 0.006*\"model\" + 0.006*\"management\" + 0.006*\"knowledge\" + 0.005*\"information\"'),\n",
       " (6,\n",
       "  '0.015*\"knowledge\" + 0.012*\"research\" + 0.011*\"information\" + 0.011*\"process\" + 0.010*\"interaction\" + 0.009*\"service\" + 0.009*\"study\" + 0.008*\"project\" + 0.006*\"paper\" + 0.006*\"decision\"'),\n",
       " (7,\n",
       "  '0.011*\"process\" + 0.010*\"cell\" + 0.009*\"data\" + 0.009*\"search\" + 0.008*\"result\" + 0.008*\"study\" + 0.007*\"system\" + 0.007*\"expression\" + 0.006*\"behavior\" + 0.006*\"individual\"'),\n",
       " (8,\n",
       "  '0.010*\"innovation\" + 0.010*\"information\" + 0.008*\"knowledge\" + 0.007*\"research\" + 0.006*\"result\" + 0.006*\"analysis\" + 0.006*\"xa\" + 0.006*\"process\" + 0.005*\"study\" + 0.005*\"ration\"'),\n",
       " (9,\n",
       "  '0.008*\"quality\" + 0.007*\"process\" + 0.007*\"hcv\" + 0.006*\"sequence\" + 0.006*\"decision\" + 0.006*\"xa\" + 0.005*\"system\" + 0.005*\"model\" + 0.005*\"application\" + 0.005*\"network\"')]"
      ]
     },
     "execution_count": 11,
     "metadata": {},
     "output_type": "execute_result"
    }
   ],
   "source": [
    "lda_model.print_topics(10, 10)"
   ]
  },
  {
   "cell_type": "code",
   "execution_count": 12,
   "metadata": {
    "ExecuteTime": {
     "end_time": "2019-10-05T02:36:51.937186Z",
     "start_time": "2019-10-05T02:36:51.770083Z"
    }
   },
   "outputs": [
    {
     "data": {
      "text/plain": [
       "['Perplexity:', -8.09605340984536]"
      ]
     },
     "execution_count": 12,
     "metadata": {},
     "output_type": "execute_result"
    }
   ],
   "source": [
    "perplexity_score = ['Perplexity:', lda_model.log_perplexity(corpus)]\n",
    "perplexity_score"
   ]
  },
  {
   "cell_type": "code",
   "execution_count": 14,
   "metadata": {
    "ExecuteTime": {
     "end_time": "2019-10-05T02:37:13.201766Z",
     "start_time": "2019-10-05T02:37:12.448380Z"
    }
   },
   "outputs": [
    {
     "name": "stderr",
     "output_type": "stream",
     "text": [
      "/Users/zhiyzuo/.virtualenvs/py3/lib/python3.7/site-packages/gensim/topic_coherence/direct_confirmation_measure.py:202: RuntimeWarning: invalid value encountered in true_divide\n",
      "  numerator = (co_occur_count / num_docs) + EPSILON\n",
      "/Users/zhiyzuo/.virtualenvs/py3/lib/python3.7/site-packages/gensim/topic_coherence/direct_confirmation_measure.py:203: RuntimeWarning: invalid value encountered in true_divide\n",
      "  denominator = (w_prime_count / num_docs) * (w_star_count / num_docs)\n",
      "/Users/zhiyzuo/.virtualenvs/py3/lib/python3.7/site-packages/gensim/topic_coherence/direct_confirmation_measure.py:198: RuntimeWarning: invalid value encountered in true_divide\n",
      "  co_doc_prob = co_occur_count / num_docs\n"
     ]
    },
    {
     "data": {
      "text/plain": [
       "['Coherence Score:', nan]"
      ]
     },
     "execution_count": 14,
     "metadata": {},
     "output_type": "execute_result"
    }
   ],
   "source": [
    "#Compute Coherence Score\n",
    "coherence_model_lda = CoherenceModel(model=lda_model, texts=corpus,\n",
    "                                     dictionary=id2word, coherence='c_v')\n",
    "coherence_lda = coherence_model_lda.get_coherence()\n",
    "coherence_score = ['Coherence Score:', coherence_lda]\n",
    "coherence_score"
   ]
  },
  {
   "cell_type": "markdown",
   "metadata": {},
   "source": [
    "save model"
   ]
  },
  {
   "cell_type": "code",
   "execution_count": 16,
   "metadata": {
    "ExecuteTime": {
     "end_time": "2019-10-05T02:38:32.892165Z",
     "start_time": "2019-10-05T02:38:32.858718Z"
    }
   },
   "outputs": [
    {
     "data": {
      "text/plain": [
       "<gensim.models.ldamodel.LdaModel at 0x11a8c62d0>"
      ]
     },
     "execution_count": 16,
     "metadata": {},
     "output_type": "execute_result"
    }
   ],
   "source": [
    "lda_model"
   ]
  },
  {
   "cell_type": "code",
   "execution_count": 17,
   "metadata": {
    "ExecuteTime": {
     "end_time": "2019-10-05T02:38:54.090052Z",
     "start_time": "2019-10-05T02:38:54.072661Z"
    }
   },
   "outputs": [],
   "source": [
    "lda_model.save(fname='tmp_model.lda')"
   ]
  },
  {
   "cell_type": "code",
   "execution_count": 20,
   "metadata": {
    "ExecuteTime": {
     "end_time": "2019-10-05T02:39:21.106159Z",
     "start_time": "2019-10-05T02:39:20.972215Z"
    }
   },
   "outputs": [
    {
     "name": "stdout",
     "output_type": "stream",
     "text": [
      "tmp_model.lda                  tmp_model.lda.id2word\r\n",
      "tmp_model.lda.expElogbeta.npy  tmp_model.lda.state\r\n"
     ]
    }
   ],
   "source": [
    "ls tmp_model.lda*"
   ]
  },
  {
   "cell_type": "code",
   "execution_count": 21,
   "metadata": {
    "ExecuteTime": {
     "end_time": "2019-10-05T02:40:16.634688Z",
     "start_time": "2019-10-05T02:40:16.617656Z"
    }
   },
   "outputs": [],
   "source": [
    "next_time_lda = gensim.models.ldamodel.LdaModel.load('tmp_model.lda')"
   ]
  },
  {
   "cell_type": "code",
   "execution_count": 22,
   "metadata": {
    "ExecuteTime": {
     "end_time": "2019-10-05T02:40:20.775736Z",
     "start_time": "2019-10-05T02:40:20.758747Z"
    }
   },
   "outputs": [
    {
     "data": {
      "text/plain": [
       "<gensim.models.ldamodel.LdaModel at 0x11b98fc50>"
      ]
     },
     "execution_count": 22,
     "metadata": {},
     "output_type": "execute_result"
    }
   ],
   "source": [
    "next_time_lda"
   ]
  },
  {
   "cell_type": "code",
   "execution_count": 23,
   "metadata": {
    "ExecuteTime": {
     "end_time": "2019-10-05T02:40:36.490668Z",
     "start_time": "2019-10-05T02:40:36.310673Z"
    }
   },
   "outputs": [
    {
     "data": {
      "text/plain": [
       "-8.095952407400723"
      ]
     },
     "execution_count": 23,
     "metadata": {},
     "output_type": "execute_result"
    }
   ],
   "source": [
    "next_time_lda.log_perplexity(corpus)"
   ]
  },
  {
   "cell_type": "markdown",
   "metadata": {},
   "source": [
    "---"
   ]
  },
  {
   "cell_type": "markdown",
   "metadata": {},
   "source": [
    "# wrapper"
   ]
  },
  {
   "cell_type": "code",
   "execution_count": 24,
   "metadata": {
    "ExecuteTime": {
     "end_time": "2019-10-05T02:42:30.763974Z",
     "start_time": "2019-10-05T02:42:30.756457Z"
    }
   },
   "outputs": [],
   "source": [
    "def tm_wrapper(param_dict={'corpus': corpus, 'id2word': id2word,\n",
    "                           'num_topics': 10, 'random_state': 100,\n",
    "                           'per_word_topics': True},\n",
    "                 output_fname='tmp_model',\n",
    "                ):\n",
    "    \n",
    "    lda_model = gensim.models.ldamodel.LdaModel(**param_dict)\n",
    "    lda_model.save(fname=output_fname)"
   ]
  }
 ],
 "metadata": {
  "kernelspec": {
   "display_name": "Python 3",
   "language": "python",
   "name": "python3"
  },
  "language_info": {
   "codemirror_mode": {
    "name": "ipython",
    "version": 3
   },
   "file_extension": ".py",
   "mimetype": "text/x-python",
   "name": "python",
   "nbconvert_exporter": "python",
   "pygments_lexer": "ipython3",
   "version": "3.7.4"
  },
  "toc": {
   "base_numbering": 1,
   "nav_menu": {},
   "number_sections": true,
   "sideBar": true,
   "skip_h1_title": false,
   "title_cell": "Table of Contents",
   "title_sidebar": "Contents",
   "toc_cell": false,
   "toc_position": {
    "height": "calc(100% - 180px)",
    "left": "10px",
    "top": "150px",
    "width": "165px"
   },
   "toc_section_display": true,
   "toc_window_display": true
  },
  "varInspector": {
   "cols": {
    "lenName": 16,
    "lenType": 16,
    "lenVar": 40
   },
   "kernels_config": {
    "python": {
     "delete_cmd_postfix": "",
     "delete_cmd_prefix": "del ",
     "library": "var_list.py",
     "varRefreshCmd": "print(var_dic_list())"
    },
    "r": {
     "delete_cmd_postfix": ") ",
     "delete_cmd_prefix": "rm(",
     "library": "var_list.r",
     "varRefreshCmd": "cat(var_dic_list()) "
    }
   },
   "types_to_exclude": [
    "module",
    "function",
    "builtin_function_or_method",
    "instance",
    "_Feature"
   ],
   "window_display": false
  }
 },
 "nbformat": 4,
 "nbformat_minor": 2
}
