{
 "cells": [
  {
   "cell_type": "code",
   "execution_count": 114,
   "metadata": {},
   "outputs": [],
   "source": [
    "import pandas as pd\n",
    "import numpy as np\n",
    "from pyscopus import Scopus\n",
    "import itertools\n",
    "import sqlalchemy\n",
    "from sqlalchemy import create_engine\n",
    "import pickle\n",
    "import os"
   ]
  },
  {
   "cell_type": "code",
   "execution_count": 2,
   "metadata": {},
   "outputs": [],
   "source": [
    "pub_df = pd.read_pickle(\"pub-df-12282018.dump\")"
   ]
  },
  {
   "cell_type": "code",
   "execution_count": 3,
   "metadata": {},
   "outputs": [
    {
     "data": {
      "text/html": [
       "<div>\n",
       "<style scoped>\n",
       "    .dataframe tbody tr th:only-of-type {\n",
       "        vertical-align: middle;\n",
       "    }\n",
       "\n",
       "    .dataframe tbody tr th {\n",
       "        vertical-align: top;\n",
       "    }\n",
       "\n",
       "    .dataframe thead th {\n",
       "        text-align: right;\n",
       "    }\n",
       "</style>\n",
       "<table border=\"1\" class=\"dataframe\">\n",
       "  <thead>\n",
       "    <tr style=\"text-align: right;\">\n",
       "      <th></th>\n",
       "      <th>affiliation</th>\n",
       "      <th>aggregation_type</th>\n",
       "      <th>authors</th>\n",
       "      <th>citation_count</th>\n",
       "      <th>cover_date</th>\n",
       "      <th>doi</th>\n",
       "      <th>eissn</th>\n",
       "      <th>full_text</th>\n",
       "      <th>isbn</th>\n",
       "      <th>issn</th>\n",
       "      <th>page_range</th>\n",
       "      <th>publication_name</th>\n",
       "      <th>subtype_description</th>\n",
       "      <th>title</th>\n",
       "      <th>volume</th>\n",
       "    </tr>\n",
       "    <tr>\n",
       "      <th>scopus_id</th>\n",
       "      <th></th>\n",
       "      <th></th>\n",
       "      <th></th>\n",
       "      <th></th>\n",
       "      <th></th>\n",
       "      <th></th>\n",
       "      <th></th>\n",
       "      <th></th>\n",
       "      <th></th>\n",
       "      <th></th>\n",
       "      <th></th>\n",
       "      <th></th>\n",
       "      <th></th>\n",
       "      <th></th>\n",
       "      <th></th>\n",
       "    </tr>\n",
       "  </thead>\n",
       "  <tbody>\n",
       "    <tr>\n",
       "      <th>85006815378</th>\n",
       "      <td>[{'city': 'College Station', 'country': 'Unite...</td>\n",
       "      <td>Journal</td>\n",
       "      <td>[55435571900, 10039882800]</td>\n",
       "      <td>0.0</td>\n",
       "      <td>2017-01-01</td>\n",
       "      <td>10.1002/asi.23577</td>\n",
       "      <td>23301643</td>\n",
       "      <td>None</td>\n",
       "      <td>None</td>\n",
       "      <td>23301635</td>\n",
       "      <td>5-21</td>\n",
       "      <td>Journal of the Association for Information Sci...</td>\n",
       "      <td>Article</td>\n",
       "      <td>The role of social capital in selecting interp...</td>\n",
       "      <td>68</td>\n",
       "    </tr>\n",
       "    <tr>\n",
       "      <th>84929739023</th>\n",
       "      <td>[{'city': 'Cleveland', 'country': 'United Stat...</td>\n",
       "      <td>Journal</td>\n",
       "      <td>[10039882800, 57193327360, 7007159735]</td>\n",
       "      <td>1.0</td>\n",
       "      <td>2015-03-01</td>\n",
       "      <td>10.1080/08874417.2015.11645771</td>\n",
       "      <td>23802057</td>\n",
       "      <td>None</td>\n",
       "      <td>None</td>\n",
       "      <td>08874417</td>\n",
       "      <td>46-54</td>\n",
       "      <td>Journal of Computer Information Systems</td>\n",
       "      <td>Article</td>\n",
       "      <td>Effect of control on information systems devel...</td>\n",
       "      <td>55</td>\n",
       "    </tr>\n",
       "    <tr>\n",
       "      <th>84884508240</th>\n",
       "      <td>[{'city': 'Cleveland', 'country': 'United Stat...</td>\n",
       "      <td>Book Series</td>\n",
       "      <td>[10039882800, 55861912200]</td>\n",
       "      <td>1.0</td>\n",
       "      <td>2013-09-27</td>\n",
       "      <td>10.1108/S1877-6361(2013)0000011007</td>\n",
       "      <td>None</td>\n",
       "      <td>None</td>\n",
       "      <td>9781781908983</td>\n",
       "      <td>18776361</td>\n",
       "      <td>43-62</td>\n",
       "      <td>Advanced Series in Management</td>\n",
       "      <td>Article</td>\n",
       "      <td>Strategic management and social media: An empi...</td>\n",
       "      <td>11</td>\n",
       "    </tr>\n",
       "    <tr>\n",
       "      <th>84883205283</th>\n",
       "      <td>[{'city': 'Columbia', 'country': 'United State...</td>\n",
       "      <td>Journal</td>\n",
       "      <td>[57193327360, 7006625568, 10039882800]</td>\n",
       "      <td>11.0</td>\n",
       "      <td>2013-07-01</td>\n",
       "      <td>10.2753/MIS0742-1222300106</td>\n",
       "      <td>None</td>\n",
       "      <td>None</td>\n",
       "      <td>None</td>\n",
       "      <td>07421222</td>\n",
       "      <td>191-225</td>\n",
       "      <td>Journal of Management Information Systems</td>\n",
       "      <td>Article</td>\n",
       "      <td>The impact of influence tactics in information...</td>\n",
       "      <td>30</td>\n",
       "    </tr>\n",
       "    <tr>\n",
       "      <th>84877903397</th>\n",
       "      <td>[{'city': 'Cleveland', 'country': 'United Stat...</td>\n",
       "      <td>Conference Proceeding</td>\n",
       "      <td>[55711015700, 10039882800]</td>\n",
       "      <td>1.0</td>\n",
       "      <td>2012-12-01</td>\n",
       "      <td>None</td>\n",
       "      <td>None</td>\n",
       "      <td>None</td>\n",
       "      <td>9781622768271</td>\n",
       "      <td>None</td>\n",
       "      <td>2348-2356</td>\n",
       "      <td>18th Americas Conference on Information System...</td>\n",
       "      <td>Conference Paper</td>\n",
       "      <td>The role of business information visualization...</td>\n",
       "      <td>3</td>\n",
       "    </tr>\n",
       "  </tbody>\n",
       "</table>\n",
       "</div>"
      ],
      "text/plain": [
       "                                                   affiliation  \\\n",
       "scopus_id                                                        \n",
       "85006815378  [{'city': 'College Station', 'country': 'Unite...   \n",
       "84929739023  [{'city': 'Cleveland', 'country': 'United Stat...   \n",
       "84884508240  [{'city': 'Cleveland', 'country': 'United Stat...   \n",
       "84883205283  [{'city': 'Columbia', 'country': 'United State...   \n",
       "84877903397  [{'city': 'Cleveland', 'country': 'United Stat...   \n",
       "\n",
       "                  aggregation_type                                 authors  \\\n",
       "scopus_id                                                                    \n",
       "85006815378                Journal              [55435571900, 10039882800]   \n",
       "84929739023                Journal  [10039882800, 57193327360, 7007159735]   \n",
       "84884508240            Book Series              [10039882800, 55861912200]   \n",
       "84883205283                Journal  [57193327360, 7006625568, 10039882800]   \n",
       "84877903397  Conference Proceeding              [55711015700, 10039882800]   \n",
       "\n",
       "             citation_count  cover_date                                 doi  \\\n",
       "scopus_id                                                                     \n",
       "85006815378             0.0  2017-01-01                   10.1002/asi.23577   \n",
       "84929739023             1.0  2015-03-01      10.1080/08874417.2015.11645771   \n",
       "84884508240             1.0  2013-09-27  10.1108/S1877-6361(2013)0000011007   \n",
       "84883205283            11.0  2013-07-01          10.2753/MIS0742-1222300106   \n",
       "84877903397             1.0  2012-12-01                                None   \n",
       "\n",
       "                eissn full_text           isbn      issn page_range  \\\n",
       "scopus_id                                                             \n",
       "85006815378  23301643      None           None  23301635       5-21   \n",
       "84929739023  23802057      None           None  08874417      46-54   \n",
       "84884508240      None      None  9781781908983  18776361      43-62   \n",
       "84883205283      None      None           None  07421222    191-225   \n",
       "84877903397      None      None  9781622768271      None  2348-2356   \n",
       "\n",
       "                                              publication_name  \\\n",
       "scopus_id                                                        \n",
       "85006815378  Journal of the Association for Information Sci...   \n",
       "84929739023            Journal of Computer Information Systems   \n",
       "84884508240                      Advanced Series in Management   \n",
       "84883205283          Journal of Management Information Systems   \n",
       "84877903397  18th Americas Conference on Information System...   \n",
       "\n",
       "            subtype_description  \\\n",
       "scopus_id                         \n",
       "85006815378             Article   \n",
       "84929739023             Article   \n",
       "84884508240             Article   \n",
       "84883205283             Article   \n",
       "84877903397    Conference Paper   \n",
       "\n",
       "                                                         title volume  \n",
       "scopus_id                                                              \n",
       "85006815378  The role of social capital in selecting interp...     68  \n",
       "84929739023  Effect of control on information systems devel...     55  \n",
       "84884508240  Strategic management and social media: An empi...     11  \n",
       "84883205283  The impact of influence tactics in information...     30  \n",
       "84877903397  The role of business information visualization...      3  "
      ]
     },
     "execution_count": 3,
     "metadata": {},
     "output_type": "execute_result"
    }
   ],
   "source": [
    "pub_df.head()"
   ]
  },
  {
   "cell_type": "code",
   "execution_count": 158,
   "metadata": {},
   "outputs": [],
   "source": [
    "key = 'f67d3d49bace457359521eccbe472913'"
   ]
  },
  {
   "cell_type": "markdown",
   "metadata": {},
   "source": [
    "f883971b9f4256782f924864ce836546\n",
    "de297fc5dedbe2edec3278547bab8f50\n",
    "3218a2259af2b2578eb98bbdc2930a28\n",
    "2e9db0c036748024bb67bd50b5d8155f\n",
    "da72e2d5334d0591f360f1a29f0e4d9d\n",
    "e43ae4d7e9bab0c8a5c4cb471216586b\n",
    "282d107387bd1e96f7b448836d3fe6fe\n",
    "3ffb3cead6e95bf14b215495d3076267\n",
    "196199ef92d0f40d7d0a250256448c81"
   ]
  },
  {
   "cell_type": "code",
   "execution_count": 5,
   "metadata": {},
   "outputs": [],
   "source": [
    "scopus = Scopus(key)"
   ]
  },
  {
   "cell_type": "markdown",
   "metadata": {},
   "source": [
    "authors' id "
   ]
  },
  {
   "cell_type": "code",
   "execution_count": 7,
   "metadata": {},
   "outputs": [],
   "source": [
    "a = pub_df['authors'].tolist()"
   ]
  },
  {
   "cell_type": "code",
   "execution_count": 9,
   "metadata": {},
   "outputs": [],
   "source": [
    "authors = list(itertools.chain.from_iterable(a))"
   ]
  },
  {
   "cell_type": "markdown",
   "metadata": {},
   "source": [
    "get ais author id"
   ]
  },
  {
   "cell_type": "code",
   "execution_count": 14,
   "metadata": {},
   "outputs": [],
   "source": [
    "engine = create_engine('postgresql://yihuiwang:@localhost:5432/ais')"
   ]
  },
  {
   "cell_type": "code",
   "execution_count": 17,
   "metadata": {},
   "outputs": [],
   "source": [
    "sql_cmd = \"select * from author_name\"\n",
    "ais_df = pd.read_sql(sql = sql_cmd, con = engine)"
   ]
  },
  {
   "cell_type": "code",
   "execution_count": 20,
   "metadata": {},
   "outputs": [],
   "source": [
    "b = ais_df['author_id'].tolist()"
   ]
  },
  {
   "cell_type": "code",
   "execution_count": 34,
   "metadata": {},
   "outputs": [],
   "source": [
    "unique_authors = list(set(authors)-set(b))"
   ]
  },
  {
   "cell_type": "markdown",
   "metadata": {},
   "source": [
    "\n",
    "len(unique_authors)\n",
    "\n",
    "48044"
   ]
  },
  {
   "cell_type": "markdown",
   "metadata": {},
   "source": [
    "save unique author id as csv"
   ]
  },
  {
   "cell_type": "code",
   "execution_count": 103,
   "metadata": {},
   "outputs": [],
   "source": [
    "np.savetxt(\"unique_authorid.csv\", unique_authors, fmt='%s')"
   ]
  },
  {
   "cell_type": "markdown",
   "metadata": {},
   "source": [
    "---"
   ]
  },
  {
   "cell_type": "code",
   "execution_count": 159,
   "metadata": {
    "scrolled": true
   },
   "outputs": [
    {
     "name": "stdout",
     "output_type": "stream",
     "text": [
      "16641919200\n"
     ]
    },
    {
     "ename": "KeyError",
     "evalue": "'search-results'",
     "output_type": "error",
     "traceback": [
      "\u001b[0;31m---------------------------------------------------------------------------\u001b[0m",
      "\u001b[0;31mKeyError\u001b[0m                                  Traceback (most recent call last)",
      "\u001b[0;32m<ipython-input-159-9e2e46f76710>\u001b[0m in \u001b[0;36m<module>\u001b[0;34m\u001b[0m\n\u001b[1;32m      2\u001b[0m \u001b[0;32mfor\u001b[0m \u001b[0mauthor\u001b[0m \u001b[0;32min\u001b[0m \u001b[0munique_authors\u001b[0m\u001b[0;34m[\u001b[0m\u001b[0;36m1\u001b[0m\u001b[0;34m:\u001b[0m\u001b[0;36m3\u001b[0m\u001b[0;34m]\u001b[0m\u001b[0;34m:\u001b[0m\u001b[0;34m\u001b[0m\u001b[0;34m\u001b[0m\u001b[0m\n\u001b[1;32m      3\u001b[0m     \u001b[0mprint\u001b[0m\u001b[0;34m(\u001b[0m\u001b[0mauthor\u001b[0m\u001b[0;34m)\u001b[0m\u001b[0;34m\u001b[0m\u001b[0;34m\u001b[0m\u001b[0m\n\u001b[0;32m----> 4\u001b[0;31m     \u001b[0mauthor_df\u001b[0m \u001b[0;34m=\u001b[0m \u001b[0mscopus\u001b[0m\u001b[0;34m.\u001b[0m\u001b[0msearch_author_publication\u001b[0m\u001b[0;34m(\u001b[0m\u001b[0mauthor\u001b[0m\u001b[0;34m)\u001b[0m\u001b[0;34m\u001b[0m\u001b[0;34m\u001b[0m\u001b[0m\n\u001b[0m\u001b[1;32m      5\u001b[0m     \u001b[0mauthor_df\u001b[0m\u001b[0;34m.\u001b[0m\u001b[0mwrite_pickle\u001b[0m\u001b[0;34m(\u001b[0m\u001b[0mauthor\u001b[0m \u001b[0;34m+\u001b[0m \u001b[0;34m'.pkl'\u001b[0m\u001b[0;34m)\u001b[0m\u001b[0;34m\u001b[0m\u001b[0;34m\u001b[0m\u001b[0m\n",
      "\u001b[0;32m~/Envs/ivy/lib/python3.7/site-packages/pyscopus/scopus.py\u001b[0m in \u001b[0;36msearch_author_publication\u001b[0;34m(self, author_id, count)\u001b[0m\n\u001b[1;32m    117\u001b[0m \u001b[0;34m\u001b[0m\u001b[0m\n\u001b[1;32m    118\u001b[0m         \u001b[0mquery\u001b[0m \u001b[0;34m=\u001b[0m \u001b[0;34m'au-id(%s)'\u001b[0m\u001b[0;34m%\u001b[0m\u001b[0mauthor_id\u001b[0m\u001b[0;34m\u001b[0m\u001b[0;34m\u001b[0m\u001b[0m\n\u001b[0;32m--> 119\u001b[0;31m         \u001b[0;32mreturn\u001b[0m \u001b[0mself\u001b[0m\u001b[0;34m.\u001b[0m\u001b[0msearch\u001b[0m\u001b[0;34m(\u001b[0m\u001b[0mquery\u001b[0m\u001b[0;34m,\u001b[0m \u001b[0mcount\u001b[0m\u001b[0;34m)\u001b[0m\u001b[0;34m\u001b[0m\u001b[0;34m\u001b[0m\u001b[0m\n\u001b[0m\u001b[1;32m    120\u001b[0m \u001b[0;34m\u001b[0m\u001b[0m\n\u001b[1;32m    121\u001b[0m     \u001b[0;32mdef\u001b[0m \u001b[0mretrieve_author\u001b[0m\u001b[0;34m(\u001b[0m\u001b[0mself\u001b[0m\u001b[0;34m,\u001b[0m \u001b[0mauthor_id\u001b[0m\u001b[0;34m)\u001b[0m\u001b[0;34m:\u001b[0m\u001b[0;34m\u001b[0m\u001b[0;34m\u001b[0m\u001b[0m\n",
      "\u001b[0;32m~/Envs/ivy/lib/python3.7/site-packages/pyscopus/scopus.py\u001b[0m in \u001b[0;36msearch\u001b[0;34m(self, query, count, type_, view)\u001b[0m\n\u001b[1;32m     54\u001b[0m             \u001b[0;32mraise\u001b[0m \u001b[0mValueError\u001b[0m\u001b[0;34m(\u001b[0m\u001b[0;34m\"%s is not a valid input for the number of entries to return.\"\u001b[0m \u001b[0;34m%\u001b[0m\u001b[0mnumber\u001b[0m\u001b[0;34m)\u001b[0m\u001b[0;34m\u001b[0m\u001b[0;34m\u001b[0m\u001b[0m\n\u001b[1;32m     55\u001b[0m \u001b[0;34m\u001b[0m\u001b[0m\n\u001b[0;32m---> 56\u001b[0;31m         \u001b[0mresult_df\u001b[0m\u001b[0;34m,\u001b[0m \u001b[0mtotal_count\u001b[0m \u001b[0;34m=\u001b[0m \u001b[0m_search_scopus\u001b[0m\u001b[0;34m(\u001b[0m\u001b[0mself\u001b[0m\u001b[0;34m.\u001b[0m\u001b[0mapikey\u001b[0m\u001b[0;34m,\u001b[0m \u001b[0mquery\u001b[0m\u001b[0;34m,\u001b[0m \u001b[0mtype_\u001b[0m\u001b[0;34m,\u001b[0m \u001b[0mview\u001b[0m\u001b[0;34m=\u001b[0m\u001b[0mview\u001b[0m\u001b[0;34m)\u001b[0m\u001b[0;34m\u001b[0m\u001b[0;34m\u001b[0m\u001b[0m\n\u001b[0m\u001b[1;32m     57\u001b[0m \u001b[0;34m\u001b[0m\u001b[0m\n\u001b[1;32m     58\u001b[0m         \u001b[0;32mif\u001b[0m \u001b[0mtotal_count\u001b[0m \u001b[0;34m<=\u001b[0m \u001b[0mcount\u001b[0m\u001b[0;34m:\u001b[0m\u001b[0;34m\u001b[0m\u001b[0;34m\u001b[0m\u001b[0m\n",
      "\u001b[0;32m~/Envs/ivy/lib/python3.7/site-packages/pyscopus/utils.py\u001b[0m in \u001b[0;36m_search_scopus\u001b[0;34m(key, query, type_, view, index)\u001b[0m\n\u001b[1;32m    386\u001b[0m     \u001b[0mjs\u001b[0m \u001b[0;34m=\u001b[0m \u001b[0mr\u001b[0m\u001b[0;34m.\u001b[0m\u001b[0mjson\u001b[0m\u001b[0;34m(\u001b[0m\u001b[0;34m)\u001b[0m\u001b[0;34m\u001b[0m\u001b[0;34m\u001b[0m\u001b[0m\n\u001b[1;32m    387\u001b[0m     \u001b[0;31m#print(r.url)\u001b[0m\u001b[0;34m\u001b[0m\u001b[0;34m\u001b[0m\u001b[0;34m\u001b[0m\u001b[0m\n\u001b[0;32m--> 388\u001b[0;31m     \u001b[0mtotal_count\u001b[0m \u001b[0;34m=\u001b[0m \u001b[0mint\u001b[0m\u001b[0;34m(\u001b[0m\u001b[0mjs\u001b[0m\u001b[0;34m[\u001b[0m\u001b[0;34m'search-results'\u001b[0m\u001b[0;34m]\u001b[0m\u001b[0;34m[\u001b[0m\u001b[0;34m'opensearch:totalResults'\u001b[0m\u001b[0;34m]\u001b[0m\u001b[0;34m)\u001b[0m\u001b[0;34m\u001b[0m\u001b[0;34m\u001b[0m\u001b[0m\n\u001b[0m\u001b[1;32m    389\u001b[0m     \u001b[0mentries\u001b[0m \u001b[0;34m=\u001b[0m \u001b[0mjs\u001b[0m\u001b[0;34m[\u001b[0m\u001b[0;34m'search-results'\u001b[0m\u001b[0;34m]\u001b[0m\u001b[0;34m[\u001b[0m\u001b[0;34m'entry'\u001b[0m\u001b[0;34m]\u001b[0m\u001b[0;34m\u001b[0m\u001b[0;34m\u001b[0m\u001b[0m\n\u001b[1;32m    390\u001b[0m \u001b[0;34m\u001b[0m\u001b[0m\n",
      "\u001b[0;31mKeyError\u001b[0m: 'search-results'"
     ]
    }
   ],
   "source": [
    "#os.chdir('/Users/yihuiwang/Desktop/Research/authorid_pkl')\n",
    "for author in unique_authors[1:3]:\n",
    "    print(author)\n",
    "    author_df = scopus.search_author_publication(author)\n",
    "    author_df.write_pickle(author + '.pkl')"
   ]
  },
  {
   "cell_type": "code",
   "execution_count": 154,
   "metadata": {},
   "outputs": [
    {
     "data": {
      "text/plain": [
       "[['85072619093',\n",
       "  '85071771729',\n",
       "  '85058352790',\n",
       "  '85048146857',\n",
       "  '85053453213',\n",
       "  '85056107634',\n",
       "  '85044850304',\n",
       "  '85054891930',\n",
       "  '85044780106',\n",
       "  '85038969356',\n",
       "  '85031827345',\n",
       "  '85049199321',\n",
       "  '84977073551',\n",
       "  '84954480878',\n",
       "  '84941331047',\n",
       "  '84940212628',\n",
       "  '84949496946',\n",
       "  '84926130260',\n",
       "  '84901277501',\n",
       "  '84863072000',\n",
       "  '79955855303',\n",
       "  '73149125530',\n",
       "  '51849142344',\n",
       "  '34250697543',\n",
       "  '26444593430'],\n",
       " ['84870347411', '84876373188']]"
      ]
     },
     "execution_count": 154,
     "metadata": {},
     "output_type": "execute_result"
    }
   ],
   "source": [
    "scopus_id = []\n",
    "for filename in os.listdir():\n",
    "    x = pd.read_pickle(filename)\n",
    "    scopus_id.extend(x['scopus_id'].tolist())\n",
    "scopus_id"
   ]
  },
  {
   "cell_type": "code",
   "execution_count": 156,
   "metadata": {},
   "outputs": [
    {
     "data": {
      "text/plain": [
       "['85072619093',\n",
       " '85071771729',\n",
       " '85058352790',\n",
       " '85048146857',\n",
       " '85053453213',\n",
       " '85056107634',\n",
       " '85044850304',\n",
       " '85054891930',\n",
       " '85044780106',\n",
       " '85038969356',\n",
       " '85031827345',\n",
       " '85049199321',\n",
       " '84977073551',\n",
       " '84954480878',\n",
       " '84941331047',\n",
       " '84940212628',\n",
       " '84949496946',\n",
       " '84926130260',\n",
       " '84901277501',\n",
       " '84863072000',\n",
       " '79955855303',\n",
       " '73149125530',\n",
       " '51849142344',\n",
       " '34250697543',\n",
       " '26444593430',\n",
       " '84870347411',\n",
       " '84876373188']"
      ]
     },
     "execution_count": 156,
     "metadata": {},
     "output_type": "execute_result"
    }
   ],
   "source": [
    "unique_scopusid = set(scopusid)"
   ]
  },
  {
   "cell_type": "code",
   "execution_count": null,
   "metadata": {},
   "outputs": [],
   "source": []
  }
 ],
 "metadata": {
  "kernelspec": {
   "display_name": "Python 3",
   "language": "python",
   "name": "python3"
  },
  "language_info": {
   "codemirror_mode": {
    "name": "ipython",
    "version": 3
   },
   "file_extension": ".py",
   "mimetype": "text/x-python",
   "name": "python",
   "nbconvert_exporter": "python",
   "pygments_lexer": "ipython3",
   "version": "3.7.4"
  }
 },
 "nbformat": 4,
 "nbformat_minor": 2
}
